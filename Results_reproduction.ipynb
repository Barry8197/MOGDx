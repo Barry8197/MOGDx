{
 "cells": [
  {
   "cell_type": "code",
   "execution_count": 1,
   "id": "4878df15",
   "metadata": {},
   "outputs": [
    {
     "name": "stdout",
     "output_type": "stream",
     "text": [
      "Finished Library Import \n",
      "\n"
     ]
    }
   ],
   "source": [
    "import pandas as pd\n",
    "import os\n",
    "import sys  \n",
    "sys.path.insert(0, './MAIN/')\n",
    "import MOGDx\n",
    "import Network\n",
    "import AE\n",
    "import GNN\n",
    "import torch\n",
    "import networkx as nx\n",
    "import matplotlib.pyplot as plt\n",
    "import numpy as np\n",
    "from sklearn.manifold import TSNE\n",
    "import warnings\n",
    "from tensorflow import keras\n",
    "import stellargraph as sg\n",
    "import joblib\n",
    "from palettable.wesanderson import Darjeeling2_5\n",
    "warnings.filterwarnings(\"ignore\")"
   ]
  },
  {
   "cell_type": "code",
   "execution_count": 6,
   "id": "df4df1e8",
   "metadata": {},
   "outputs": [],
   "source": [
    "graph_file = './raw/V02/V02_mRNA_MDS-UPDRS_graph.csv'\n",
    "input_dir  = 'raw/V02'\n",
    "output_dir = 'Output/PPMI/V02/'"
   ]
  },
  {
   "cell_type": "code",
   "execution_count": 3,
   "id": "7e9f022c",
   "metadata": {},
   "outputs": [
    {
     "name": "stdout",
     "output_type": "stream",
     "text": [
      "Importing \t raw/V02/datExpr_mRNA.csv \n",
      "\n",
      "Importing \t raw/V02/datExpr_MDS-UPDRS.csv \n",
      "\n"
     ]
    }
   ],
   "source": [
    "datModalities , datMeta = MOGDx.data_parsing(input_dir ,graph_file , 'CONCOHORT_DEFINITION' , 'PATNO')\n",
    "\n",
    "G = Network.network_from_csv(graph_file , False)\n",
    "\n",
    "node_subjects = datMeta.loc[pd.Series(nx.get_node_attributes(G , 'idx'))].reset_index(drop=True)\n",
    "node_subjects.name = 'CONCOHORT_DEFINITION'\n",
    "\n",
    "mlb = joblib.load(output_dir + '/multilabel_binarizer.pkl')"
   ]
  },
  {
   "cell_type": "code",
   "execution_count": 7,
   "id": "fad1173b",
   "metadata": {},
   "outputs": [],
   "source": [
    "# Specify the path to the saved model\n",
    "ae_model_path = output_dir + '/AE_models/'\n",
    "\n",
    "device = torch.device('cuda' if torch.cuda.is_available() else 'cpu') # Get GPU device name, else use CPU\n",
    "\n",
    "reduced_df = pd.DataFrame()\n",
    "for modality in graph_file.split('_')[1:-1] : \n",
    "    \n",
    "    # Load the saved model\n",
    "    AE_modality = torch.load(ae_model_path + 'AE_model_' + modality , map_location=torch.device(device))\n",
    "\n",
    "    # Create a new instance of your model\n",
    "    AE_model = AE.AE(latent_dim=AE_modality['model_state_dict']['encoder.0.weight'].shape[0] , inputs=AE_modality['model_state_dict']['encoder.0.weight'].shape[1]).to(device)  # Replace with your model definition\n",
    "\n",
    "    # Load the model's state dictionary\n",
    "    AE_model.load_state_dict(AE_modality['model_state_dict'])\n",
    "\n",
    "    # Put the model in evaluation mode (e.g., for inference)\n",
    "    AE_model.eval()\n",
    "\n",
    "    df   = pd.read_csv(f'{input_dir}/datExpr_{modality}.csv' , index_col=0)\n",
    "    meta = pd.read_csv(f'{input_dir}/datMeta_{modality}.csv' , index_col=0)\n",
    "\n",
    "    if len(set(meta.index.astype(str)) & set(df.columns)) > 0 :\n",
    "        df = df.T\n",
    "        df.index = df.index.astype(str)\n",
    "    else :\n",
    "        df.index = df.index.astype(str)\n",
    "        pass\n",
    "\n",
    "    df_scaled = AE.scale_datasets(df)['x_1']\n",
    "    \n",
    "    # Get the reduced version of the data from the AE\n",
    "    reduced_df_tmp = pd.DataFrame(AE_model.forward(torch.tensor(df_scaled.to_numpy() , dtype=torch.float , device=device))[0].cpu().detach().numpy() , index=df.index)\n",
    "    reduced_df_tmp = reduced_df_tmp.add_prefix(f'data_{modality}_feature_')\n",
    "    reduced_df = pd.concat([reduced_df , reduced_df_tmp] , axis=1)\n",
    "    reduced_df = reduced_df.fillna(reduced_df.median())"
   ]
  },
  {
   "cell_type": "code",
   "execution_count": null,
   "id": "77d356a4",
   "metadata": {},
   "outputs": [],
   "source": [
    "node_features = reduced_df.reindex([i[1]['idx'] for i in G.nodes(data=True)])\n",
    "\n",
    "nx.set_node_attributes(G , pd.Series(node_features.values.tolist() , index= [i[0] for i in G.nodes(data=True)]) , 'node_features')\n",
    "\n",
    "graph = sg.StellarGraph.from_networkx(G , node_features='node_features')\n",
    "\n",
    "# Specify Stellargraph Generator\n",
    "generator = sg.mapper.FullBatchNodeGenerator(graph, method=\"gcn\")\n",
    "all_nodes = node_subjects.index\n",
    "all_gen = generator.flow(all_nodes)\n",
    "\n",
    "model = keras.models.load_model(f'{output_dir}/best_model/')"
   ]
  },
  {
   "cell_type": "code",
   "execution_count": null,
   "id": "fd71749e",
   "metadata": {},
   "outputs": [],
   "source": [
    "tsne_plot , GNN_embeddings = GNN.transform_plot(model , generator , node_subjects , pd.Series(nx.get_node_attributes(G , 'idx')).values , TSNE)"
   ]
  },
  {
   "cell_type": "code",
   "execution_count": null,
   "id": "558dddcf",
   "metadata": {},
   "outputs": [],
   "source": [
    "cmplt , pred = GNN.gnn_confusion_matrix(model , generator , node_subjects , mlb)\n",
    "cmplt.plot(  cmap = Darjeeling2_5.mpl_colormap )"
   ]
  },
  {
   "cell_type": "code",
   "execution_count": null,
   "id": "1ef1d239",
   "metadata": {},
   "outputs": [],
   "source": [
    "precision_recall_plot , all_predictions_conf = GNN.gnn_precision_recall(model , generator , node_subjects , mlb)"
   ]
  },
  {
   "cell_type": "code",
   "execution_count": null,
   "id": "cbfc4daa",
   "metadata": {},
   "outputs": [],
   "source": [
    "all_predictions = []\n",
    "for pred , max_pred in zip(all_predictions_conf , np.max(all_predictions_conf, axis=1)) : \n",
    "    all_predictions.append(list(pred == max_pred))\n",
    "node_predictions = mlb.inverse_transform(np.array(all_predictions))\n",
    "\n",
    "node_predictions = [i[0] for i in node_predictions]\n",
    "\n",
    "pred_df = pd.DataFrame({'Actual' : datMeta.loc[pd.Series(nx.get_node_attributes(G , 'idx'))] , 'Predicted' : node_predictions})"
   ]
  },
  {
   "cell_type": "code",
   "execution_count": null,
   "id": "73892e31",
   "metadata": {},
   "outputs": [],
   "source": [
    "pred_df"
   ]
  }
 ],
 "metadata": {
  "kernelspec": {
   "display_name": "Python 3 (ipykernel)",
   "language": "python",
   "name": "python3"
  },
  "language_info": {
   "codemirror_mode": {
    "name": "ipython",
    "version": 3
   },
   "file_extension": ".py",
   "mimetype": "text/x-python",
   "name": "python",
   "nbconvert_exporter": "python",
   "pygments_lexer": "ipython3",
   "version": "3.9.12"
  }
 },
 "nbformat": 4,
 "nbformat_minor": 5
}
