{
 "cells": [
  {
   "cell_type": "code",
   "execution_count": null,
   "id": "e997761b",
   "metadata": {},
   "outputs": [],
   "source": [
    "import pandas as pd\n",
    "import numpy as np\n",
    "import itertools\n",
    "import networkx as nx\n",
    "import pickle\n",
    "import matplotlib.pyplot as plt\n",
    "import matplotlib.patches as mpatches\n",
    "from palettable import wesanderson\n",
    "import sys\n",
    "sys.path.insert(0 , './../MAIN/')\n",
    "from utils import *\n",
    "import preprocess_functions"
   ]
  },
  {
   "cell_type": "code",
   "execution_count": null,
   "id": "826368d8",
   "metadata": {},
   "outputs": [],
   "source": [
    "index_col = 'index'\n",
    "target = 'paper_BRCA_Subtype_PAM50'"
   ]
  },
  {
   "cell_type": "code",
   "execution_count": null,
   "id": "e10272bb",
   "metadata": {},
   "outputs": [],
   "source": [
    "for i in range(3,4) :\n",
    "    print(i)"
   ]
  },
  {
   "cell_type": "code",
   "execution_count": null,
   "id": "51881538",
   "metadata": {},
   "outputs": [],
   "source": [
    "for n_mods in range(2,3) : \n",
    "    print(f'\\n Performing SNF for Modality Combinations with {n_mods} modalities \\n')\n",
    "    for modalities in itertools.combinations(sorted(['mRNA' ,'RPPA' ]) , n_mods) :\n",
    "        print(f'SNF network for {\" and \".join(modalities)}')\n",
    "        all_graphs = {}\n",
    "        all_idx = []\n",
    "        for i , mod in enumerate(modalities) : \n",
    "            with open(f'./../../data/raw/{mod}_processed.pkl', 'rb') as file:\n",
    "                loaded_data = pickle.load(file)\n",
    "\n",
    "            if i == 0 : \n",
    "                datMeta = loaded_data['datMeta'].reset_index()\n",
    "            else : \n",
    "                datMeta = pd.merge(datMeta , loaded_data['datMeta'].reset_index() , how = 'outer'  , on = [index_col , target])\n",
    "\n",
    "            all_graphs[mod] =  nx.read_graphml(f'./../../data/Networks/{mod}_graph.graphml')\n",
    "            all_idx.extend(list(all_graphs[mod].nodes))\n",
    "\n",
    "        datMeta = datMeta.set_index(index_col)\n",
    "        all_idx = list(set(all_idx))\n",
    "\n",
    "        full_graphs = []\n",
    "\n",
    "        for mod , graph in all_graphs.items() : \n",
    "            full_graph = pd.DataFrame(data = np.zeros((len(all_idx) , len(all_idx))) , index=sorted(all_idx) , columns=sorted(all_idx))\n",
    "            graph = nx.to_pandas_adjacency(graph)\n",
    "            full_graph.loc[graph.index , graph.index] = graph.values\n",
    "\n",
    "            full_graphs.append(full_graph)\n",
    "\n",
    "        k = 15\n",
    "        adj_snf = preprocess_functions.SNF(full_graphs , K=15 , t=10)\n",
    "\n",
    "        node_labels = pd.Series(adj_snf.index) \n",
    "\n",
    "        node_colour = datMeta.loc[adj_snf.index][target].astype('category').cat.set_categories(wesanderson.FantasticFox2_5.hex_colors , rename=True)\n",
    "\n",
    "        G  = preprocess_functions.plot_knn_network(adj_snf , k , datMeta.loc[adj_snf.index][target] ,\n",
    "                                                               node_colours=node_colour , node_size=150)\n",
    "        snf_name = '_'.join(modalities)\n",
    "\n",
    "        nx.write_graphml(G, f'./../../data/Networks/{snf_name}_graph.graphml')"
   ]
  },
  {
   "cell_type": "code",
   "execution_count": null,
   "id": "f007f4f2",
   "metadata": {},
   "outputs": [],
   "source": [
    "graph = 'RPPA_mRNA'\n",
    "G= network_from_csv(f'./../../data/Networks/{graph}_graph.csv' , False)\n",
    "\n",
    "node_colours = datMeta.loc[list(G.nodes)][target].astype('category').cat.set_categories(wesanderson.FantasticFox2_5.hex_colors , rename=True)\n",
    "\n",
    "labels = datMeta.loc[list(G.nodes)][target]\n",
    "\n",
    "plt.figure(figsize=(10, 8))\n",
    "nx.draw(G, with_labels=False, font_weight='bold', node_size=150, node_color=node_colours, font_size=8)\n",
    "patches = []\n",
    "for col , lab in zip(node_colours.unique() , labels.unique()) : \n",
    "    patches.append(mpatches.Patch(color=col, label=lab))\n",
    "plt.legend(handles=patches)\n",
    "plt.show()                                            \n",
    "\n",
    "nx.set_node_attributes(G, labels.astype('category').cat.codes , 'label')\n",
    "\n",
    "#nx.write_graphml(G, f'./../../data/Networks/{graph}_graph.graphml')"
   ]
  },
  {
   "cell_type": "code",
   "execution_count": null,
   "id": "8bf56a62",
   "metadata": {},
   "outputs": [],
   "source": [
    "G_PY = nx.read_graphml(f'./../../data/Networks/RPPA_mRNA_graph.graphml')\n",
    "node_colours = datMeta.loc[list(G_PY.nodes)][target].astype('category').cat.set_categories(wesanderson.FantasticFox2_5.hex_colors , rename=True)\n",
    "\n",
    "labels = datMeta.loc[list(G_PY.nodes)][target]\n",
    "\n",
    "plt.figure(figsize=(10, 8))\n",
    "nx.draw(G_PY, with_labels=False, font_weight='bold', node_size=150, node_color=node_colours, font_size=8)\n",
    "patches = []\n",
    "for col , lab in zip(node_colours.unique() , labels.unique()) : \n",
    "    patches.append(mpatches.Patch(color=col, label=lab))\n",
    "plt.legend(handles=patches)\n",
    "plt.show()  "
   ]
  },
  {
   "cell_type": "code",
   "execution_count": null,
   "id": "84898fdb",
   "metadata": {},
   "outputs": [],
   "source": [
    "node_labels = pd.Series(adj_snf.index) \n",
    "\n",
    "node_colour = datMeta.loc[adj_snf.index][target].astype('category').cat.set_categories(wesanderson.FantasticFox2_5.hex_colors , rename=True)\n",
    "\n",
    "G  = preprocess_functions.plot_knn_network(adj_snf , k , datMeta.loc[adj_snf.index][target] ,\n",
    "                                                       node_colours=node_colour , node_size=150)\n",
    "snf_name = '_'.join(modalities)\n",
    "\n",
    "nx.write_graphml(G, f'./../../data/Networks/{snf_name}_graph.graphml')"
   ]
  }
 ],
 "metadata": {
  "kernelspec": {
   "display_name": "Python 3 (ipykernel)",
   "language": "python",
   "name": "python3"
  },
  "language_info": {
   "codemirror_mode": {
    "name": "ipython",
    "version": 3
   },
   "file_extension": ".py",
   "mimetype": "text/x-python",
   "name": "python",
   "nbconvert_exporter": "python",
   "pygments_lexer": "ipython3",
   "version": "3.9.12"
  }
 },
 "nbformat": 4,
 "nbformat_minor": 5
}
