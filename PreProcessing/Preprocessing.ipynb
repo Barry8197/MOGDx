{
 "cells": [
  {
   "cell_type": "code",
   "execution_count": null,
   "id": "38624ea8",
   "metadata": {},
   "outputs": [],
   "source": [
    "import pandas as pd\n",
    "import numpy as np\n",
    "import pickle\n",
    "import sys\n",
    "sys.path.insert(0 , './../MAIN/')\n",
    "from utils import *\n",
    "import preprocess_functions\n",
    "import networkx as nx"
   ]
  },
  {
   "cell_type": "code",
   "execution_count": null,
   "id": "94024ce8",
   "metadata": {},
   "outputs": [],
   "source": [
    "modality = 'CNV'\n",
    "target = 'paper_BRCA_Subtype_PAM50'"
   ]
  },
  {
   "cell_type": "code",
   "execution_count": null,
   "id": "89348a90",
   "metadata": {},
   "outputs": [],
   "source": [
    "with open(f'./../data/TCGA/BRCA/raw/{modality}_preprocessed.pkl' , 'rb') as file : \n",
    "    loaded_data = pickle.load(file)\n",
    "    \n",
    "count_mtx = loaded_data['datExpr']\n",
    "datMeta = loaded_data['datMeta'].reset_index()[['patient' , target]].set_index('patient')"
   ]
  },
  {
   "cell_type": "code",
   "execution_count": null,
   "id": "814352ad",
   "metadata": {},
   "outputs": [],
   "source": [
    "pipeline = 'LogReg'\n",
    "#pipeline = 'DESeq'\n",
    "data_to_save = {}\n",
    "\n",
    "if len(set(count_mtx.index) & set(datMeta.index)) == 0 : \n",
    "    count_mtx = count_mtx.T\n",
    "\n",
    "if pipeline == 'DESeq' :\n",
    "    print('Performing Differential Gene Expression for Feature Selection')\n",
    "    datMeta.index.name = 'index'\n",
    "\n",
    "    count_mtx , datMeta = preprocess_functions.data_preprocess(count_mtx.astype(int).astype(np.float32), datMeta[target]  , gene_exp = False)\n",
    "\n",
    "    dds, vsd, top_genes = preprocess_functions.DESEQ(count_mtx , datMeta , target , n_genes=500 , fit_type = 'mean')\n",
    "\n",
    "    data_to_save[f'extracted_feats'] = list(set(top_genes))\n",
    "    datExpr = pd.DataFrame(data=vsd , index=count_mtx.index , columns=count_mtx.columns)\n",
    "    \n",
    "elif pipeline == 'LogReg' : \n",
    "    print('Performing Logistic Regression for Feature Selection')\n",
    "    \n",
    "    n_genes = count_mtx.shape[1]\n",
    "    datExpr = count_mtx.loc[: , (count_mtx != 0).any(axis=0)] # remove any genes with all 0 expression\n",
    "    \n",
    "    extracted_feats , model = preprocess_functions.elastic_net(datExpr , datMeta[target] , l1_ratio = 1 , lam=0.01 , num_epochs=3000)\n",
    "    \n",
    "    data_to_save['extracted_feats'] = list(set(extracted_feats))\n",
    "    data_to_save['model'] = {'model' : model}\n",
    "    \n",
    "    datMeta.index.name = 'index'\n",
    "    datMeta = datMeta[target]\n",
    "    \n",
    "data_to_save['datExpr'] = datExpr\n",
    "data_to_save['datMeta'] = datMeta\n",
    "\n",
    "with open(f'./../data/TCGA/BRCA/raw/{modality}_processed.pkl' , 'wb') as file : \n",
    "    pickle.dump(data_to_save , file)\n",
    "    "
   ]
  },
  {
   "cell_type": "code",
   "execution_count": null,
   "id": "e8f792df-c7f0-49bc-8c7b-6ecb2e96ac77",
   "metadata": {},
   "outputs": [],
   "source": [
    "len(data_to_save['extracted_feats'])"
   ]
  },
  {
   "cell_type": "code",
   "execution_count": null,
   "id": "3fcf48c9",
   "metadata": {},
   "outputs": [],
   "source": [
    "knn = 15\n",
    "method = 'pearson'\n",
    "if len(data_to_save['extracted_feats']) > 0 : \n",
    "    G  = preprocess_functions.knn_graph_generation(datExpr , datMeta , method=method , \n",
    "                                                extracted_feats=data_to_save['extracted_feats'], node_size =150 , knn = knn )\n",
    "else : \n",
    "    G  = preprocess_functions.knn_graph_generation(datExpr , datMeta , target , method=method , \n",
    "                                    extracted_feats=None, node_size =150 , knn = 15 )\n",
    "    \n",
    "nx.write_graphml(G, f'./../data/TCGA/BRCA/Networks/{modality}_graph.graphml')"
   ]
  },
  {
   "cell_type": "code",
   "execution_count": null,
   "id": "d9c851ac-6592-44bc-aa71-e66390fc34c5",
   "metadata": {},
   "outputs": [],
   "source": []
  }
 ],
 "metadata": {
  "kernelspec": {
   "display_name": "Python 3 (ipykernel)",
   "language": "python",
   "name": "python3"
  },
  "language_info": {
   "codemirror_mode": {
    "name": "ipython",
    "version": 3
   },
   "file_extension": ".py",
   "mimetype": "text/x-python",
   "name": "python",
   "nbconvert_exporter": "python",
   "pygments_lexer": "ipython3",
   "version": "3.9.19"
  }
 },
 "nbformat": 4,
 "nbformat_minor": 5
}
